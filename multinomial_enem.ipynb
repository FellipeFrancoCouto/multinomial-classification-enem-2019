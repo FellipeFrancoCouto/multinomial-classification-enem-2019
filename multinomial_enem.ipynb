{
 "cells": [
  {
   "cell_type": "code",
   "execution_count": 1,
   "metadata": {},
   "outputs": [],
   "source": [
    "# Import useful libraries\n",
    "import pandas as pd\n",
    "from sklearn.model_selection import train_test_split, cross_val_score, RepeatedStratifiedKFold\n",
    "import sklearn.metrics as metrics\n",
    "import numpy as np\n",
    "from tqdm import tqdm\n",
    "from sklearn import preprocessing, linear_model\n",
    "from numpy import mean, std\n",
    "import statsmodels.api as sm\n",
    "import matplotlib.pyplot as plt\n",
    "from sklearn.preprocessing import LabelEncoder\n",
    "from sklearn.feature_selection import RFE\n",
    "from sklearn.linear_model import LogisticRegression\n",
    "from sklearn.metrics import confusion_matrix, ConfusionMatrixDisplay, multilabel_confusion_matrix\n",
    "import warnings\n",
    "warnings.filterwarnings(\"ignore\")"
   ]
  },
  {
   "cell_type": "code",
   "execution_count": 2,
   "metadata": {},
   "outputs": [
    {
     "name": "stdout",
     "output_type": "stream",
     "text": [
      "5095270\n"
     ]
    }
   ],
   "source": [
    "df= pd.read_csv('MICRODADOS_ENEM_2019.csv', sep=';', encoding='latin-1')\n",
    "print(df.shape[0])"
   ]
  },
  {
   "cell_type": "code",
   "execution_count": 3,
   "metadata": {
    "scrolled": false
   },
   "outputs": [
    {
     "data": {
      "text/html": [
       "<div>\n",
       "<style scoped>\n",
       "    .dataframe tbody tr th:only-of-type {\n",
       "        vertical-align: middle;\n",
       "    }\n",
       "\n",
       "    .dataframe tbody tr th {\n",
       "        vertical-align: top;\n",
       "    }\n",
       "\n",
       "    .dataframe thead th {\n",
       "        text-align: right;\n",
       "    }\n",
       "</style>\n",
       "<table border=\"1\" class=\"dataframe\">\n",
       "  <thead>\n",
       "    <tr style=\"text-align: right;\">\n",
       "      <th></th>\n",
       "      <th>percent_missing</th>\n",
       "    </tr>\n",
       "  </thead>\n",
       "  <tbody>\n",
       "    <tr>\n",
       "      <th>NU_INSCRICAO</th>\n",
       "      <td>0.000000</td>\n",
       "    </tr>\n",
       "    <tr>\n",
       "      <th>NU_ANO</th>\n",
       "      <td>0.000000</td>\n",
       "    </tr>\n",
       "    <tr>\n",
       "      <th>CO_MUNICIPIO_RESIDENCIA</th>\n",
       "      <td>0.000000</td>\n",
       "    </tr>\n",
       "    <tr>\n",
       "      <th>NO_MUNICIPIO_RESIDENCIA</th>\n",
       "      <td>0.000000</td>\n",
       "    </tr>\n",
       "    <tr>\n",
       "      <th>CO_UF_RESIDENCIA</th>\n",
       "      <td>0.000000</td>\n",
       "    </tr>\n",
       "    <tr>\n",
       "      <th>SG_UF_RESIDENCIA</th>\n",
       "      <td>0.000000</td>\n",
       "    </tr>\n",
       "    <tr>\n",
       "      <th>NU_IDADE</th>\n",
       "      <td>0.000000</td>\n",
       "    </tr>\n",
       "    <tr>\n",
       "      <th>TP_SEXO</th>\n",
       "      <td>0.000000</td>\n",
       "    </tr>\n",
       "    <tr>\n",
       "      <th>TP_ESTADO_CIVIL</th>\n",
       "      <td>0.000000</td>\n",
       "    </tr>\n",
       "    <tr>\n",
       "      <th>TP_COR_RACA</th>\n",
       "      <td>0.000000</td>\n",
       "    </tr>\n",
       "    <tr>\n",
       "      <th>TP_NACIONALIDADE</th>\n",
       "      <td>0.000000</td>\n",
       "    </tr>\n",
       "    <tr>\n",
       "      <th>CO_MUNICIPIO_NASCIMENTO</th>\n",
       "      <td>2.850663</td>\n",
       "    </tr>\n",
       "    <tr>\n",
       "      <th>NO_MUNICIPIO_NASCIMENTO</th>\n",
       "      <td>2.850663</td>\n",
       "    </tr>\n",
       "    <tr>\n",
       "      <th>CO_UF_NASCIMENTO</th>\n",
       "      <td>2.850663</td>\n",
       "    </tr>\n",
       "    <tr>\n",
       "      <th>SG_UF_NASCIMENTO</th>\n",
       "      <td>2.850663</td>\n",
       "    </tr>\n",
       "    <tr>\n",
       "      <th>TP_ST_CONCLUSAO</th>\n",
       "      <td>0.000000</td>\n",
       "    </tr>\n",
       "    <tr>\n",
       "      <th>TP_ANO_CONCLUIU</th>\n",
       "      <td>0.000000</td>\n",
       "    </tr>\n",
       "    <tr>\n",
       "      <th>TP_ESCOLA</th>\n",
       "      <td>0.000000</td>\n",
       "    </tr>\n",
       "    <tr>\n",
       "      <th>TP_ENSINO</th>\n",
       "      <td>43.512375</td>\n",
       "    </tr>\n",
       "    <tr>\n",
       "      <th>IN_TREINEIRO</th>\n",
       "      <td>0.000000</td>\n",
       "    </tr>\n",
       "    <tr>\n",
       "      <th>CO_ESCOLA</th>\n",
       "      <td>77.480840</td>\n",
       "    </tr>\n",
       "    <tr>\n",
       "      <th>CO_MUNICIPIO_ESC</th>\n",
       "      <td>77.480840</td>\n",
       "    </tr>\n",
       "    <tr>\n",
       "      <th>NO_MUNICIPIO_ESC</th>\n",
       "      <td>77.480840</td>\n",
       "    </tr>\n",
       "    <tr>\n",
       "      <th>CO_UF_ESC</th>\n",
       "      <td>77.480840</td>\n",
       "    </tr>\n",
       "    <tr>\n",
       "      <th>SG_UF_ESC</th>\n",
       "      <td>77.480840</td>\n",
       "    </tr>\n",
       "    <tr>\n",
       "      <th>TP_DEPENDENCIA_ADM_ESC</th>\n",
       "      <td>77.480840</td>\n",
       "    </tr>\n",
       "    <tr>\n",
       "      <th>TP_LOCALIZACAO_ESC</th>\n",
       "      <td>77.480840</td>\n",
       "    </tr>\n",
       "    <tr>\n",
       "      <th>TP_SIT_FUNC_ESC</th>\n",
       "      <td>77.480840</td>\n",
       "    </tr>\n",
       "    <tr>\n",
       "      <th>IN_BAIXA_VISAO</th>\n",
       "      <td>0.000000</td>\n",
       "    </tr>\n",
       "    <tr>\n",
       "      <th>IN_CEGUEIRA</th>\n",
       "      <td>0.000000</td>\n",
       "    </tr>\n",
       "    <tr>\n",
       "      <th>...</th>\n",
       "      <td>...</td>\n",
       "    </tr>\n",
       "    <tr>\n",
       "      <th>NU_NOTA_COMP2</th>\n",
       "      <td>23.004198</td>\n",
       "    </tr>\n",
       "    <tr>\n",
       "      <th>NU_NOTA_COMP3</th>\n",
       "      <td>23.004198</td>\n",
       "    </tr>\n",
       "    <tr>\n",
       "      <th>NU_NOTA_COMP4</th>\n",
       "      <td>23.004198</td>\n",
       "    </tr>\n",
       "    <tr>\n",
       "      <th>NU_NOTA_COMP5</th>\n",
       "      <td>23.004198</td>\n",
       "    </tr>\n",
       "    <tr>\n",
       "      <th>NU_NOTA_REDACAO</th>\n",
       "      <td>23.004198</td>\n",
       "    </tr>\n",
       "    <tr>\n",
       "      <th>Q001</th>\n",
       "      <td>0.000000</td>\n",
       "    </tr>\n",
       "    <tr>\n",
       "      <th>Q002</th>\n",
       "      <td>0.000000</td>\n",
       "    </tr>\n",
       "    <tr>\n",
       "      <th>Q003</th>\n",
       "      <td>0.000000</td>\n",
       "    </tr>\n",
       "    <tr>\n",
       "      <th>Q004</th>\n",
       "      <td>0.000000</td>\n",
       "    </tr>\n",
       "    <tr>\n",
       "      <th>Q005</th>\n",
       "      <td>0.000000</td>\n",
       "    </tr>\n",
       "    <tr>\n",
       "      <th>Q006</th>\n",
       "      <td>0.000000</td>\n",
       "    </tr>\n",
       "    <tr>\n",
       "      <th>Q007</th>\n",
       "      <td>0.000000</td>\n",
       "    </tr>\n",
       "    <tr>\n",
       "      <th>Q008</th>\n",
       "      <td>0.000000</td>\n",
       "    </tr>\n",
       "    <tr>\n",
       "      <th>Q009</th>\n",
       "      <td>0.000000</td>\n",
       "    </tr>\n",
       "    <tr>\n",
       "      <th>Q010</th>\n",
       "      <td>0.000000</td>\n",
       "    </tr>\n",
       "    <tr>\n",
       "      <th>Q011</th>\n",
       "      <td>0.000000</td>\n",
       "    </tr>\n",
       "    <tr>\n",
       "      <th>Q012</th>\n",
       "      <td>0.000000</td>\n",
       "    </tr>\n",
       "    <tr>\n",
       "      <th>Q013</th>\n",
       "      <td>0.000000</td>\n",
       "    </tr>\n",
       "    <tr>\n",
       "      <th>Q014</th>\n",
       "      <td>0.000000</td>\n",
       "    </tr>\n",
       "    <tr>\n",
       "      <th>Q015</th>\n",
       "      <td>0.000000</td>\n",
       "    </tr>\n",
       "    <tr>\n",
       "      <th>Q016</th>\n",
       "      <td>0.000000</td>\n",
       "    </tr>\n",
       "    <tr>\n",
       "      <th>Q017</th>\n",
       "      <td>0.000000</td>\n",
       "    </tr>\n",
       "    <tr>\n",
       "      <th>Q018</th>\n",
       "      <td>0.000000</td>\n",
       "    </tr>\n",
       "    <tr>\n",
       "      <th>Q019</th>\n",
       "      <td>0.000000</td>\n",
       "    </tr>\n",
       "    <tr>\n",
       "      <th>Q020</th>\n",
       "      <td>0.000000</td>\n",
       "    </tr>\n",
       "    <tr>\n",
       "      <th>Q021</th>\n",
       "      <td>0.000000</td>\n",
       "    </tr>\n",
       "    <tr>\n",
       "      <th>Q022</th>\n",
       "      <td>0.000000</td>\n",
       "    </tr>\n",
       "    <tr>\n",
       "      <th>Q023</th>\n",
       "      <td>0.000000</td>\n",
       "    </tr>\n",
       "    <tr>\n",
       "      <th>Q024</th>\n",
       "      <td>0.000000</td>\n",
       "    </tr>\n",
       "    <tr>\n",
       "      <th>Q025</th>\n",
       "      <td>0.000000</td>\n",
       "    </tr>\n",
       "  </tbody>\n",
       "</table>\n",
       "<p>136 rows × 1 columns</p>\n",
       "</div>"
      ],
      "text/plain": [
       "                         percent_missing\n",
       "NU_INSCRICAO                    0.000000\n",
       "NU_ANO                          0.000000\n",
       "CO_MUNICIPIO_RESIDENCIA         0.000000\n",
       "NO_MUNICIPIO_RESIDENCIA         0.000000\n",
       "CO_UF_RESIDENCIA                0.000000\n",
       "SG_UF_RESIDENCIA                0.000000\n",
       "NU_IDADE                        0.000000\n",
       "TP_SEXO                         0.000000\n",
       "TP_ESTADO_CIVIL                 0.000000\n",
       "TP_COR_RACA                     0.000000\n",
       "TP_NACIONALIDADE                0.000000\n",
       "CO_MUNICIPIO_NASCIMENTO         2.850663\n",
       "NO_MUNICIPIO_NASCIMENTO         2.850663\n",
       "CO_UF_NASCIMENTO                2.850663\n",
       "SG_UF_NASCIMENTO                2.850663\n",
       "TP_ST_CONCLUSAO                 0.000000\n",
       "TP_ANO_CONCLUIU                 0.000000\n",
       "TP_ESCOLA                       0.000000\n",
       "TP_ENSINO                      43.512375\n",
       "IN_TREINEIRO                    0.000000\n",
       "CO_ESCOLA                      77.480840\n",
       "CO_MUNICIPIO_ESC               77.480840\n",
       "NO_MUNICIPIO_ESC               77.480840\n",
       "CO_UF_ESC                      77.480840\n",
       "SG_UF_ESC                      77.480840\n",
       "TP_DEPENDENCIA_ADM_ESC         77.480840\n",
       "TP_LOCALIZACAO_ESC             77.480840\n",
       "TP_SIT_FUNC_ESC                77.480840\n",
       "IN_BAIXA_VISAO                  0.000000\n",
       "IN_CEGUEIRA                     0.000000\n",
       "...                                  ...\n",
       "NU_NOTA_COMP2                  23.004198\n",
       "NU_NOTA_COMP3                  23.004198\n",
       "NU_NOTA_COMP4                  23.004198\n",
       "NU_NOTA_COMP5                  23.004198\n",
       "NU_NOTA_REDACAO                23.004198\n",
       "Q001                            0.000000\n",
       "Q002                            0.000000\n",
       "Q003                            0.000000\n",
       "Q004                            0.000000\n",
       "Q005                            0.000000\n",
       "Q006                            0.000000\n",
       "Q007                            0.000000\n",
       "Q008                            0.000000\n",
       "Q009                            0.000000\n",
       "Q010                            0.000000\n",
       "Q011                            0.000000\n",
       "Q012                            0.000000\n",
       "Q013                            0.000000\n",
       "Q014                            0.000000\n",
       "Q015                            0.000000\n",
       "Q016                            0.000000\n",
       "Q017                            0.000000\n",
       "Q018                            0.000000\n",
       "Q019                            0.000000\n",
       "Q020                            0.000000\n",
       "Q021                            0.000000\n",
       "Q022                            0.000000\n",
       "Q023                            0.000000\n",
       "Q024                            0.000000\n",
       "Q025                            0.000000\n",
       "\n",
       "[136 rows x 1 columns]"
      ]
     },
     "execution_count": 3,
     "metadata": {},
     "output_type": "execute_result"
    }
   ],
   "source": [
    "# Get the percentage of missing data from each column\n",
    "percent_missing = df.isnull().sum() * 100 / len(df)\n",
    "missing_value_df = pd.DataFrame({'percent_missing': percent_missing})\n",
    "missing_value_df"
   ]
  },
  {
   "cell_type": "code",
   "execution_count": 4,
   "metadata": {},
   "outputs": [],
   "source": [
    "# Label Encoder\n",
    "le = preprocessing.LabelEncoder()\n",
    "# Encode each column (with the exception of the target column and one encoded column)\n",
    "for column in range(1,26):\n",
    "    # This column is already encoded\n",
    "    if column in (5,6):\n",
    "        continue\n",
    "    if column < 10:\n",
    "        df[f'Q00{column}'] = le.fit_transform(df[f'Q00{column}'])\n",
    "    else:\n",
    "        df[f'Q0{column}'] = le.fit_transform(df[f'Q0{column}'])\n",
    "    "
   ]
  },
  {
   "cell_type": "code",
   "execution_count": 5,
   "metadata": {},
   "outputs": [
    {
     "name": "stdout",
     "output_type": "stream",
     "text": [
      "   Q001  Q002  Q003  Q004  Q005 Q006  Q007  Q008  Q009  Q010  ...  Q016  Q017  \\\n",
      "0     3     4     0     0     7    B     0     1     2     0  ...     0     0   \n",
      "1     3     4     0     0     5    B     0     1     2     0  ...     0     0   \n",
      "2     7     4     0     3     3    C     3     4     4     2  ...     1     0   \n",
      "3     3     3     0     1     3    C     0     1     2     0  ...     0     0   \n",
      "4     1     2     0     0     5    C     0     2     1     0  ...     0     0   \n",
      "\n",
      "   Q018  Q019  Q020  Q021  Q022  Q023  Q024  Q025  \n",
      "0     0     2     1     0     3     0     1     0  \n",
      "1     0     1     1     0     1     0     0     0  \n",
      "2     0     3     1     1     3     0     2     1  \n",
      "3     0     2     0     0     3     0     0     0  \n",
      "4     0     1     0     0     3     0     0     0  \n",
      "\n",
      "[5 rows x 25 columns]\n"
     ]
    }
   ],
   "source": [
    "# List all the columns that will be used\n",
    "temp_list = [ f'Q00{column}' for column in range(1,10)] \n",
    "temp_list2 = [ f'Q0{column}' for column in range(10,26)] \n",
    "columns= temp_list + temp_list2\n",
    "df=df[columns]\n",
    "print(df.head())"
   ]
  },
  {
   "cell_type": "code",
   "execution_count": 6,
   "metadata": {
    "scrolled": false
   },
   "outputs": [
    {
     "data": {
      "text/html": [
       "<div>\n",
       "<style scoped>\n",
       "    .dataframe tbody tr th:only-of-type {\n",
       "        vertical-align: middle;\n",
       "    }\n",
       "\n",
       "    .dataframe tbody tr th {\n",
       "        vertical-align: top;\n",
       "    }\n",
       "\n",
       "    .dataframe thead th {\n",
       "        text-align: right;\n",
       "    }\n",
       "</style>\n",
       "<table border=\"1\" class=\"dataframe\">\n",
       "  <thead>\n",
       "    <tr style=\"text-align: right;\">\n",
       "      <th></th>\n",
       "      <th>Q001</th>\n",
       "      <th>Q002</th>\n",
       "      <th>Q003</th>\n",
       "      <th>Q004</th>\n",
       "      <th>Q005</th>\n",
       "      <th>Q007</th>\n",
       "      <th>Q008</th>\n",
       "      <th>Q009</th>\n",
       "      <th>Q010</th>\n",
       "      <th>Q011</th>\n",
       "      <th>...</th>\n",
       "      <th>Q017</th>\n",
       "      <th>Q018</th>\n",
       "      <th>Q019</th>\n",
       "      <th>Q020</th>\n",
       "      <th>Q021</th>\n",
       "      <th>Q022</th>\n",
       "      <th>Q023</th>\n",
       "      <th>Q024</th>\n",
       "      <th>Q025</th>\n",
       "      <th>target</th>\n",
       "    </tr>\n",
       "  </thead>\n",
       "  <tbody>\n",
       "    <tr>\n",
       "      <th>0</th>\n",
       "      <td>3</td>\n",
       "      <td>4</td>\n",
       "      <td>0</td>\n",
       "      <td>0</td>\n",
       "      <td>7</td>\n",
       "      <td>0</td>\n",
       "      <td>1</td>\n",
       "      <td>2</td>\n",
       "      <td>0</td>\n",
       "      <td>0</td>\n",
       "      <td>...</td>\n",
       "      <td>0</td>\n",
       "      <td>0</td>\n",
       "      <td>2</td>\n",
       "      <td>1</td>\n",
       "      <td>0</td>\n",
       "      <td>3</td>\n",
       "      <td>0</td>\n",
       "      <td>1</td>\n",
       "      <td>0</td>\n",
       "      <td>B</td>\n",
       "    </tr>\n",
       "    <tr>\n",
       "      <th>1</th>\n",
       "      <td>3</td>\n",
       "      <td>4</td>\n",
       "      <td>0</td>\n",
       "      <td>0</td>\n",
       "      <td>5</td>\n",
       "      <td>0</td>\n",
       "      <td>1</td>\n",
       "      <td>2</td>\n",
       "      <td>0</td>\n",
       "      <td>0</td>\n",
       "      <td>...</td>\n",
       "      <td>0</td>\n",
       "      <td>0</td>\n",
       "      <td>1</td>\n",
       "      <td>1</td>\n",
       "      <td>0</td>\n",
       "      <td>1</td>\n",
       "      <td>0</td>\n",
       "      <td>0</td>\n",
       "      <td>0</td>\n",
       "      <td>B</td>\n",
       "    </tr>\n",
       "    <tr>\n",
       "      <th>2</th>\n",
       "      <td>7</td>\n",
       "      <td>4</td>\n",
       "      <td>0</td>\n",
       "      <td>3</td>\n",
       "      <td>3</td>\n",
       "      <td>3</td>\n",
       "      <td>4</td>\n",
       "      <td>4</td>\n",
       "      <td>2</td>\n",
       "      <td>0</td>\n",
       "      <td>...</td>\n",
       "      <td>0</td>\n",
       "      <td>0</td>\n",
       "      <td>3</td>\n",
       "      <td>1</td>\n",
       "      <td>1</td>\n",
       "      <td>3</td>\n",
       "      <td>0</td>\n",
       "      <td>2</td>\n",
       "      <td>1</td>\n",
       "      <td>C</td>\n",
       "    </tr>\n",
       "    <tr>\n",
       "      <th>3</th>\n",
       "      <td>3</td>\n",
       "      <td>3</td>\n",
       "      <td>0</td>\n",
       "      <td>1</td>\n",
       "      <td>3</td>\n",
       "      <td>0</td>\n",
       "      <td>1</td>\n",
       "      <td>2</td>\n",
       "      <td>0</td>\n",
       "      <td>0</td>\n",
       "      <td>...</td>\n",
       "      <td>0</td>\n",
       "      <td>0</td>\n",
       "      <td>2</td>\n",
       "      <td>0</td>\n",
       "      <td>0</td>\n",
       "      <td>3</td>\n",
       "      <td>0</td>\n",
       "      <td>0</td>\n",
       "      <td>0</td>\n",
       "      <td>C</td>\n",
       "    </tr>\n",
       "    <tr>\n",
       "      <th>4</th>\n",
       "      <td>1</td>\n",
       "      <td>2</td>\n",
       "      <td>0</td>\n",
       "      <td>0</td>\n",
       "      <td>5</td>\n",
       "      <td>0</td>\n",
       "      <td>2</td>\n",
       "      <td>1</td>\n",
       "      <td>0</td>\n",
       "      <td>1</td>\n",
       "      <td>...</td>\n",
       "      <td>0</td>\n",
       "      <td>0</td>\n",
       "      <td>1</td>\n",
       "      <td>0</td>\n",
       "      <td>0</td>\n",
       "      <td>3</td>\n",
       "      <td>0</td>\n",
       "      <td>0</td>\n",
       "      <td>0</td>\n",
       "      <td>C</td>\n",
       "    </tr>\n",
       "  </tbody>\n",
       "</table>\n",
       "<p>5 rows × 25 columns</p>\n",
       "</div>"
      ],
      "text/plain": [
       "   Q001  Q002  Q003  Q004  Q005  Q007  Q008  Q009  Q010  Q011  ...  Q017  \\\n",
       "0     3     4     0     0     7     0     1     2     0     0  ...     0   \n",
       "1     3     4     0     0     5     0     1     2     0     0  ...     0   \n",
       "2     7     4     0     3     3     3     4     4     2     0  ...     0   \n",
       "3     3     3     0     1     3     0     1     2     0     0  ...     0   \n",
       "4     1     2     0     0     5     0     2     1     0     1  ...     0   \n",
       "\n",
       "   Q018  Q019  Q020  Q021  Q022  Q023  Q024  Q025  target  \n",
       "0     0     2     1     0     3     0     1     0       B  \n",
       "1     0     1     1     0     1     0     0     0       B  \n",
       "2     0     3     1     1     3     0     2     1       C  \n",
       "3     0     2     0     0     3     0     0     0       C  \n",
       "4     0     1     0     0     3     0     0     0       C  \n",
       "\n",
       "[5 rows x 25 columns]"
      ]
     },
     "execution_count": 6,
     "metadata": {},
     "output_type": "execute_result"
    }
   ],
   "source": [
    "# Copy df\n",
    "df_copy=df\n",
    "# Rename target column\n",
    "df_copy.rename(columns={\"Q006\": \"target\"}, inplace=True)\n",
    "# Correct the indexes\n",
    "df_copy = df_copy.reindex(sorted(df.columns), axis=1)\n",
    "df_copy.head()"
   ]
  },
  {
   "cell_type": "code",
   "execution_count": 7,
   "metadata": {
    "scrolled": false
   },
   "outputs": [
    {
     "data": {
      "text/html": [
       "<div>\n",
       "<style scoped>\n",
       "    .dataframe tbody tr th:only-of-type {\n",
       "        vertical-align: middle;\n",
       "    }\n",
       "\n",
       "    .dataframe tbody tr th {\n",
       "        vertical-align: top;\n",
       "    }\n",
       "\n",
       "    .dataframe thead th {\n",
       "        text-align: right;\n",
       "    }\n",
       "</style>\n",
       "<table border=\"1\" class=\"dataframe\">\n",
       "  <thead>\n",
       "    <tr style=\"text-align: right;\">\n",
       "      <th></th>\n",
       "      <th>Q001</th>\n",
       "      <th>Q002</th>\n",
       "      <th>Q003</th>\n",
       "      <th>Q004</th>\n",
       "      <th>Q005</th>\n",
       "      <th>Q007</th>\n",
       "      <th>Q008</th>\n",
       "      <th>Q009</th>\n",
       "      <th>Q010</th>\n",
       "      <th>Q011</th>\n",
       "      <th>...</th>\n",
       "      <th>Q017</th>\n",
       "      <th>Q018</th>\n",
       "      <th>Q019</th>\n",
       "      <th>Q020</th>\n",
       "      <th>Q021</th>\n",
       "      <th>Q022</th>\n",
       "      <th>Q023</th>\n",
       "      <th>Q024</th>\n",
       "      <th>Q025</th>\n",
       "      <th>target</th>\n",
       "    </tr>\n",
       "  </thead>\n",
       "  <tbody>\n",
       "    <tr>\n",
       "      <th>0</th>\n",
       "      <td>3</td>\n",
       "      <td>4</td>\n",
       "      <td>0</td>\n",
       "      <td>0</td>\n",
       "      <td>7</td>\n",
       "      <td>0</td>\n",
       "      <td>1</td>\n",
       "      <td>2</td>\n",
       "      <td>0</td>\n",
       "      <td>0</td>\n",
       "      <td>...</td>\n",
       "      <td>0</td>\n",
       "      <td>0</td>\n",
       "      <td>2</td>\n",
       "      <td>1</td>\n",
       "      <td>0</td>\n",
       "      <td>3</td>\n",
       "      <td>0</td>\n",
       "      <td>1</td>\n",
       "      <td>0</td>\n",
       "      <td>1</td>\n",
       "    </tr>\n",
       "    <tr>\n",
       "      <th>1</th>\n",
       "      <td>3</td>\n",
       "      <td>4</td>\n",
       "      <td>0</td>\n",
       "      <td>0</td>\n",
       "      <td>5</td>\n",
       "      <td>0</td>\n",
       "      <td>1</td>\n",
       "      <td>2</td>\n",
       "      <td>0</td>\n",
       "      <td>0</td>\n",
       "      <td>...</td>\n",
       "      <td>0</td>\n",
       "      <td>0</td>\n",
       "      <td>1</td>\n",
       "      <td>1</td>\n",
       "      <td>0</td>\n",
       "      <td>1</td>\n",
       "      <td>0</td>\n",
       "      <td>0</td>\n",
       "      <td>0</td>\n",
       "      <td>1</td>\n",
       "    </tr>\n",
       "    <tr>\n",
       "      <th>2</th>\n",
       "      <td>7</td>\n",
       "      <td>4</td>\n",
       "      <td>0</td>\n",
       "      <td>3</td>\n",
       "      <td>3</td>\n",
       "      <td>3</td>\n",
       "      <td>4</td>\n",
       "      <td>4</td>\n",
       "      <td>2</td>\n",
       "      <td>0</td>\n",
       "      <td>...</td>\n",
       "      <td>0</td>\n",
       "      <td>0</td>\n",
       "      <td>3</td>\n",
       "      <td>1</td>\n",
       "      <td>1</td>\n",
       "      <td>3</td>\n",
       "      <td>0</td>\n",
       "      <td>2</td>\n",
       "      <td>1</td>\n",
       "      <td>2</td>\n",
       "    </tr>\n",
       "    <tr>\n",
       "      <th>3</th>\n",
       "      <td>3</td>\n",
       "      <td>3</td>\n",
       "      <td>0</td>\n",
       "      <td>1</td>\n",
       "      <td>3</td>\n",
       "      <td>0</td>\n",
       "      <td>1</td>\n",
       "      <td>2</td>\n",
       "      <td>0</td>\n",
       "      <td>0</td>\n",
       "      <td>...</td>\n",
       "      <td>0</td>\n",
       "      <td>0</td>\n",
       "      <td>2</td>\n",
       "      <td>0</td>\n",
       "      <td>0</td>\n",
       "      <td>3</td>\n",
       "      <td>0</td>\n",
       "      <td>0</td>\n",
       "      <td>0</td>\n",
       "      <td>2</td>\n",
       "    </tr>\n",
       "    <tr>\n",
       "      <th>4</th>\n",
       "      <td>1</td>\n",
       "      <td>2</td>\n",
       "      <td>0</td>\n",
       "      <td>0</td>\n",
       "      <td>5</td>\n",
       "      <td>0</td>\n",
       "      <td>2</td>\n",
       "      <td>1</td>\n",
       "      <td>0</td>\n",
       "      <td>1</td>\n",
       "      <td>...</td>\n",
       "      <td>0</td>\n",
       "      <td>0</td>\n",
       "      <td>1</td>\n",
       "      <td>0</td>\n",
       "      <td>0</td>\n",
       "      <td>3</td>\n",
       "      <td>0</td>\n",
       "      <td>0</td>\n",
       "      <td>0</td>\n",
       "      <td>2</td>\n",
       "    </tr>\n",
       "  </tbody>\n",
       "</table>\n",
       "<p>5 rows × 25 columns</p>\n",
       "</div>"
      ],
      "text/plain": [
       "   Q001  Q002  Q003  Q004  Q005  Q007  Q008  Q009  Q010  Q011  ...  Q017  \\\n",
       "0     3     4     0     0     7     0     1     2     0     0  ...     0   \n",
       "1     3     4     0     0     5     0     1     2     0     0  ...     0   \n",
       "2     7     4     0     3     3     3     4     4     2     0  ...     0   \n",
       "3     3     3     0     1     3     0     1     2     0     0  ...     0   \n",
       "4     1     2     0     0     5     0     2     1     0     1  ...     0   \n",
       "\n",
       "   Q018  Q019  Q020  Q021  Q022  Q023  Q024  Q025  target  \n",
       "0     0     2     1     0     3     0     1     0       1  \n",
       "1     0     1     1     0     1     0     0     0       1  \n",
       "2     0     3     1     1     3     0     2     1       2  \n",
       "3     0     2     0     0     3     0     0     0       2  \n",
       "4     0     1     0     0     3     0     0     0       2  \n",
       "\n",
       "[5 rows x 25 columns]"
      ]
     },
     "execution_count": 7,
     "metadata": {},
     "output_type": "execute_result"
    }
   ],
   "source": [
    "# If family Wage <= 2 Minimum Wage in 2019\n",
    "df_copy['target'].replace(['A', 'B'], 1, inplace=True)\n",
    "\n",
    "# If family Wage <= 4 Minimum Wage in 2019\n",
    "df_copy['target'].replace(['C', 'D', 'E', 'F', 'G'], 2, inplace=True)\n",
    "\n",
    "# If family Wage <= 10 Minimum Wage in 2019\n",
    "df_copy['target'].replace(['H', 'I', 'J', 'K', 'L','M'], 3, inplace=True)\n",
    "\n",
    "# If family Wage <= 20 Minimum Wage in 2019\n",
    "df_copy['target'].replace(['N', 'O', 'P'], 4, inplace=True)\n",
    "\n",
    "# If family Wage > 20 Minimum Wage in 2019\n",
    "df_copy['target'].replace(['Q'], 5, inplace=True)\n",
    "\n",
    "# Print head\n",
    "df_copy.head()"
   ]
  },
  {
   "cell_type": "code",
   "execution_count": 8,
   "metadata": {},
   "outputs": [],
   "source": [
    "df_copy_= df_copy.sample(n=1000000, random_state=42)"
   ]
  },
  {
   "cell_type": "code",
   "execution_count": 9,
   "metadata": {},
   "outputs": [],
   "source": [
    "# Split the data with 25% of it in the test size\n",
    "train, test = train_test_split(df_copy_, test_size=0.25)\n",
    "all_columns = list(df_copy.columns)\n",
    "x_vars = all_columns[:24]\n",
    "\n",
    "# Train Set\n",
    "X = train[x_vars]\n",
    "y = train['target']\n",
    "\n",
    "# Test set \n",
    "test_X = test[x_vars]\n",
    "test_y = test['target']"
   ]
  },
  {
   "cell_type": "code",
   "execution_count": 10,
   "metadata": {},
   "outputs": [
    {
     "name": "stderr",
     "output_type": "stream",
     "text": [
      " 17%|█▋        | 1/6 [50:05<4:10:25, 3005.02s/it]"
     ]
    },
    {
     "name": "stdout",
     "output_type": "stream",
     "text": [
      ">0.0001 0.666 (0.001)\n"
     ]
    },
    {
     "name": "stderr",
     "output_type": "stream",
     "text": [
      " 33%|███▎      | 2/6 [2:06:06<3:51:27, 3471.88s/it]"
     ]
    },
    {
     "name": "stdout",
     "output_type": "stream",
     "text": [
      ">0.0010 0.671 (0.002)\n"
     ]
    },
    {
     "name": "stderr",
     "output_type": "stream",
     "text": [
      " 50%|█████     | 3/6 [3:46:23<3:31:46, 4235.40s/it]"
     ]
    },
    {
     "name": "stdout",
     "output_type": "stream",
     "text": [
      ">0.0100 0.672 (0.002)\n"
     ]
    },
    {
     "name": "stderr",
     "output_type": "stream",
     "text": [
      " 67%|██████▋   | 4/6 [5:34:54<2:43:56, 4918.20s/it]"
     ]
    },
    {
     "name": "stdout",
     "output_type": "stream",
     "text": [
      ">0.1000 0.672 (0.002)\n"
     ]
    },
    {
     "name": "stderr",
     "output_type": "stream",
     "text": [
      " 83%|████████▎ | 5/6 [7:26:29<1:30:51, 5451.21s/it]"
     ]
    },
    {
     "name": "stdout",
     "output_type": "stream",
     "text": [
      ">0.5000 0.672 (0.002)\n"
     ]
    },
    {
     "name": "stderr",
     "output_type": "stream",
     "text": [
      "100%|██████████| 6/6 [9:40:05<00:00, 5800.89s/it]  "
     ]
    },
    {
     "name": "stdout",
     "output_type": "stream",
     "text": [
      ">1.0000 0.672 (0.002)\n"
     ]
    },
    {
     "name": "stderr",
     "output_type": "stream",
     "text": [
      "\n"
     ]
    },
    {
     "data": {
      "image/png": "[encoded data removed]",
      "text/plain": [
       "<Figure size 432x288 with 1 Axes>"
      ]
     },
     "metadata": {
      "needs_background": "light"
     },
     "output_type": "display_data"
    },
    {
     "data": {
      "text/plain": [
       "<Figure size 1080x432 with 0 Axes>"
      ]
     },
     "metadata": {},
     "output_type": "display_data"
    }
   ],
   "source": [
    "# get a list of models to evaluate\n",
    "def model_candidate():\n",
    "    models = dict()\n",
    "    for C in [0.0001, 0.001, 0.01, 0.1, 0.5, 1.0]:\n",
    "        # create name for model\n",
    "        key = '%.4f' % C\n",
    "        # turn off penalty in some cases\n",
    "        models[key] = LogisticRegression(multi_class='multinomial', solver='lbfgs', penalty='l2', C=C, max_iter=1000)\n",
    "    return models\n",
    "\n",
    "# evaluate a give model using cross-validation\n",
    "def model_evaluate(model, X, y):\n",
    "    # define the evaluation procedure\n",
    "    cv = RepeatedStratifiedKFold(n_splits=10, n_repeats=3, random_state=42)\n",
    "    # evaluate the model\n",
    "    results = cross_val_score(model, X, y, scoring='accuracy', cv=cv, n_jobs=-1)\n",
    "    # Return the results\n",
    "    return results\n",
    "\n",
    "# get the models candidates to evaluate\n",
    "models = model_candidate()\n",
    "# evaluate the models and store results\n",
    "results = []\n",
    "names = []\n",
    "for name, model in tqdm(models.items()):\n",
    "    # evaluate the model and collect the results\n",
    "    results = model_evaluate(model, X, y)\n",
    "    # store the results\n",
    "    results.append(results)\n",
    "    names.append(name)\n",
    "    # Summarize giving the mean and Standard deviation of results\n",
    "    print('>%s %.3f (%.3f)' % (name, mean(results), std(results)))\n",
    "    \n",
    "# plot model performance for comparison\n",
    "plt.title('Box Plot:Cross- Validation Accuracies')\n",
    "plt.boxplot(results, labels=names, showmeans=True)\n",
    "plt.xlabel('Value of C')\n",
    "plt.ylabel('Accuracy')\n",
    "plt.figure(figsize=(15, 6))\n",
    "plt.show()\n",
    "# Adapted from https://machinelearningmastery.com/repeated-k-fold-cross-validation-with-python/"
   ]
  },
  {
   "cell_type": "code",
   "execution_count": 11,
   "metadata": {},
   "outputs": [
    {
     "name": "stdout",
     "output_type": "stream",
     "text": [
      "Training Accuracy score:  0.6719106666666667\n"
     ]
    }
   ],
   "source": [
    "# Fit the logistic regression with the \"optimized\" parameter\n",
    "log_reg = linear_model.LogisticRegression(C=0.5, penalty = 'l2', max_iter=1000).fit(X,y)\n",
    "\n",
    "# Store predictions\n",
    "y_pred = log_reg.predict(X)\n",
    "\n",
    "print('Training Accuracy score: ', metrics.accuracy_score(y,y_pred))"
   ]
  },
  {
   "cell_type": "code",
   "execution_count": 12,
   "metadata": {},
   "outputs": [
    {
     "data": {
      "text/plain": [
       "array([[-1.28185062e-01, -1.95758258e-01, -2.04519601e-01,\n",
       "        -2.19386140e-01,  1.17402113e-01, -2.49171392e-01,\n",
       "        -5.66657455e-01, -1.02177285e-01, -1.10993053e+00,\n",
       "         1.26913993e-02,  1.91578090e-02, -1.89284115e-01,\n",
       "        -5.88680749e-01, -9.39286241e-02, -3.46133214e-01,\n",
       "         4.98323714e-02, -6.18339855e-01, -1.96265626e-01,\n",
       "         1.33630207e-01, -8.24730490e-01, -4.06075160e-01,\n",
       "        -4.73831570e-01, -7.74199146e-01, -7.75024718e-01],\n",
       "       [-1.41605213e-01, -1.42650422e-01, -1.84197784e-01,\n",
       "        -1.27369207e-01,  1.21586828e-01, -3.74282826e-01,\n",
       "        -3.97707478e-01, -8.06810970e-02, -2.95038183e-01,\n",
       "         1.42431851e-01,  1.84715473e-01, -4.32462663e-02,\n",
       "        -2.55370292e-02, -1.18776377e-01,  1.05398886e-02,\n",
       "        -3.15886564e-01, -2.70892948e-01, -6.62090680e-02,\n",
       "        -9.05682144e-02, -4.61411556e-01, -4.07620648e-02,\n",
       "        -1.46143143e-02, -2.78905565e-01, -4.50710787e-01],\n",
       "       [-6.12478728e-02,  7.53267503e-02, -8.41062138e-02,\n",
       "         1.72704777e-02,  4.70834941e-02, -1.22627047e-01,\n",
       "        -1.03266202e-02,  2.46140421e-02,  3.16802338e-01,\n",
       "         1.46922502e-01, -4.92998541e-02,  5.68552582e-02,\n",
       "         3.07043915e-01, -9.48062969e-02,  1.28473693e-01,\n",
       "        -2.22694733e-01,  1.16932947e-01,  2.04509607e-02,\n",
       "        -1.09952971e-01,  4.32637764e-02,  1.48206607e-01,\n",
       "         1.58591976e-01,  1.23575332e-01,  2.88881546e-01],\n",
       "       [ 1.05582640e-01,  1.42582809e-01,  1.04322054e-01,\n",
       "         1.06678728e-01, -9.84111156e-02,  2.03559216e-01,\n",
       "         3.66064420e-01,  1.70918079e-02,  4.73387655e-01,\n",
       "        -1.18140015e-01, -1.44457009e-01,  5.69961660e-02,\n",
       "         2.43108753e-01,  3.78410566e-02,  1.27463934e-01,\n",
       "         5.53323649e-02,  3.20848562e-01,  9.90281466e-02,\n",
       "        -2.10456746e-04,  4.97914954e-01,  1.64547746e-01,\n",
       "         1.75244979e-01,  3.67994733e-01,  5.63683748e-01],\n",
       "       [ 2.25455507e-01,  1.20499120e-01,  3.68501545e-01,\n",
       "         2.22806142e-01, -1.87661320e-01,  5.42522049e-01,\n",
       "         6.08627134e-01,  1.41152532e-01,  6.14778724e-01,\n",
       "        -1.83905738e-01, -1.01164186e-02,  1.18678957e-01,\n",
       "         6.40651103e-02,  2.69670241e-01,  7.96556992e-02,\n",
       "         4.33416561e-01,  4.51451294e-01,  1.42995587e-01,\n",
       "         6.71014356e-02,  7.44963316e-01,  1.34082872e-01,\n",
       "         1.54608929e-01,  5.61534647e-01,  3.73170211e-01]])"
      ]
     },
     "execution_count": 12,
     "metadata": {},
     "output_type": "execute_result"
    }
   ],
   "source": [
    "log_reg.coef_"
   ]
  },
  {
   "cell_type": "code",
   "execution_count": 13,
   "metadata": {},
   "outputs": [
    {
     "data": {
      "image/png": "[encoded data removed]",
      "text/plain": [
       "<Figure size 432x288 with 2 Axes>"
      ]
     },
     "metadata": {
      "needs_background": "light"
     },
     "output_type": "display_data"
    },
    {
     "data": {
      "text/plain": [
       "<Figure size 1080x432 with 0 Axes>"
      ]
     },
     "metadata": {},
     "output_type": "display_data"
    }
   ],
   "source": [
    "# define confusion matrix\n",
    "cm = confusion_matrix(y, y_pred, labels=log_reg.classes_)\n",
    "# define confusion matrix display \n",
    "disp = ConfusionMatrixDisplay(confusion_matrix=cm, display_labels=log_reg.classes_)\n",
    "# plot display\n",
    "disp.plot()\n",
    "plt.title('Confusion Matrix for Multiclass Classification')\n",
    "plt.figure(figsize=(15, 6))\n",
    "plt.show()"
   ]
  },
  {
   "cell_type": "code",
   "execution_count": 14,
   "metadata": {},
   "outputs": [
    {
     "name": "stdout",
     "output_type": "stream",
     "text": [
      "Test Accuracy score:  0.673072\n"
     ]
    }
   ],
   "source": [
    "# Store predictions\n",
    "y_pred = log_reg.predict(test_X)\n",
    "print('Test Accuracy score: ', metrics.accuracy_score(test_y, y_pred))"
   ]
  },
  {
   "cell_type": "code",
   "execution_count": 15,
   "metadata": {},
   "outputs": [
    {
     "data": {
      "image/png": "[encoded data removed]",
      "text/plain": [
       "<Figure size 432x288 with 2 Axes>"
      ]
     },
     "metadata": {
      "needs_background": "light"
     },
     "output_type": "display_data"
    },
    {
     "data": {
      "text/plain": [
       "<Figure size 1080x432 with 0 Axes>"
      ]
     },
     "metadata": {},
     "output_type": "display_data"
    }
   ],
   "source": [
    "# define confusion matrix\n",
    "cm = confusion_matrix(y, y_pred, labels=log_reg.classes_)\n",
    "# define confusion matrix display \n",
    "disp = ConfusionMatrixDisplay(confusion_matrix=cm, display_labels=log_reg.classes_)\n",
    "# plot display\n",
    "disp.plot()\n",
    "plt.title('Confusion Matrix for Multiclass Classification')\n",
    "plt.figure(figsize=(15, 6))\n",
    "plt.show()"
   ]
  },
  {
   "cell_type": "code",
   "execution_count": 16,
   "metadata": {
    "scrolled": false
   },
   "outputs": [
    {
     "name": "stdout",
     "output_type": "stream",
     "text": [
      "Features to be removed: ['Q001', 'Q002', 'Q003', 'Q004', 'Q005', 'Q009', 'Q011', 'Q012', 'Q013', 'Q015', 'Q016', 'Q017', 'Q019', 'Q020', 'Q022', 'Q023']\n"
     ]
    }
   ],
   "source": [
    "rfe = RFE(log_reg, step=1, verbose = 0, n_features_to_select= 1/3)\n",
    "rfe = rfe.fit(X, y)\n",
    "remove=[]\n",
    "for i in range(X.shape[1]):\n",
    "    if rfe.ranking_[i] != 1:\n",
    "        remove.append(f'{x_vars[i]}')\n",
    "    else:\n",
    "        continue\n",
    "print(f'Features to be removed: {remove}')"
   ]
  },
  {
   "cell_type": "code",
   "execution_count": 17,
   "metadata": {},
   "outputs": [],
   "source": [
    "df_copy_.drop(remove, axis=1, inplace=True)"
   ]
  },
  {
   "cell_type": "code",
   "execution_count": 18,
   "metadata": {},
   "outputs": [],
   "source": [
    "# Split the data with 25% of it in the test size\n",
    "train, test = train_test_split(df_copy_, test_size=0.25)\n",
    "all_columns = list(df_copy_.columns)\n",
    "x_vars = all_columns[:8]\n",
    "\n",
    "X = train[x_vars]\n",
    "y = train['target']\n",
    "\n",
    "test_X = test[x_vars]\n",
    "test_y = test['target']"
   ]
  },
  {
   "cell_type": "code",
   "execution_count": 19,
   "metadata": {},
   "outputs": [
    {
     "name": "stderr",
     "output_type": "stream",
     "text": [
      " 17%|█▋        | 1/6 [07:09<35:48, 429.70s/it]"
     ]
    },
    {
     "name": "stdout",
     "output_type": "stream",
     "text": [
      ">0.0001 0.648 (0.001)\n"
     ]
    },
    {
     "name": "stderr",
     "output_type": "stream",
     "text": [
      " 33%|███▎      | 2/6 [23:19<39:26, 591.64s/it]"
     ]
    },
    {
     "name": "stdout",
     "output_type": "stream",
     "text": [
      ">0.0010 0.654 (0.002)\n"
     ]
    },
    {
     "name": "stderr",
     "output_type": "stream",
     "text": [
      " 50%|█████     | 3/6 [46:42<41:45, 835.24s/it]"
     ]
    },
    {
     "name": "stdout",
     "output_type": "stream",
     "text": [
      ">0.0100 0.654 (0.002)\n"
     ]
    },
    {
     "name": "stderr",
     "output_type": "stream",
     "text": [
      " 67%|██████▋   | 4/6 [1:14:08<35:56, 1078.28s/it]"
     ]
    },
    {
     "name": "stdout",
     "output_type": "stream",
     "text": [
      ">0.1000 0.654 (0.002)\n"
     ]
    },
    {
     "name": "stderr",
     "output_type": "stream",
     "text": [
      " 83%|████████▎ | 5/6 [1:42:18<21:01, 1261.76s/it]"
     ]
    },
    {
     "name": "stdout",
     "output_type": "stream",
     "text": [
      ">0.5000 0.654 (0.002)\n"
     ]
    },
    {
     "name": "stderr",
     "output_type": "stream",
     "text": [
      "100%|██████████| 6/6 [2:10:43<00:00, 1307.18s/it]"
     ]
    },
    {
     "name": "stdout",
     "output_type": "stream",
     "text": [
      ">1.0000 0.654 (0.002)\n"
     ]
    },
    {
     "name": "stderr",
     "output_type": "stream",
     "text": [
      "\n"
     ]
    },
    {
     "data": {
      "image/png": "[encoded data removed]",
      "text/plain": [
       "<Figure size 432x288 with 1 Axes>"
      ]
     },
     "metadata": {
      "needs_background": "light"
     },
     "output_type": "display_data"
    },
    {
     "data": {
      "text/plain": [
       "<Figure size 1080x432 with 0 Axes>"
      ]
     },
     "metadata": {},
     "output_type": "display_data"
    }
   ],
   "source": [
    "# get a list of models to evaluate\n",
    "def model_candidate():\n",
    "    models = dict()\n",
    "    for C in [0.0001, 0.001, 0.01, 0.1, 0.5, 1.0]:\n",
    "        # create name for model\n",
    "        key = '%.4f' % C\n",
    "        # turn off penalty in some cases\n",
    "        models[key] = LogisticRegression(multi_class='multinomial', solver='lbfgs', penalty='l2', C=C, max_iter=1000)\n",
    "    return models\n",
    "\n",
    "# evaluate a give model using cross-validation\n",
    "def model_evaluate(model, X, y):\n",
    "    # define the evaluation procedure\n",
    "    cv = RepeatedStratifiedKFold(n_splits=10, n_repeats=3, random_state=42)\n",
    "    # evaluate the model\n",
    "    results = cross_val_score(model, X, y, scoring='accuracy', cv=cv, n_jobs=-1)\n",
    "    # Return the results\n",
    "    return results\n",
    "\n",
    "# get the models candidates to evaluate\n",
    "models = model_candidate()\n",
    "# evaluate the models and store results\n",
    "results = []\n",
    "names = []\n",
    "for name, model in tqdm(models.items()):\n",
    "    # evaluate the model and collect the results\n",
    "    results = model_evaluate(model, X, y)\n",
    "    # store the results\n",
    "    results.append(results)\n",
    "    names.append(name)\n",
    "    # Summarize giving the mean and Standard deviation of results\n",
    "    print('>%s %.3f (%.3f)' % (name, mean(results), std(results)))\n",
    "    \n",
    "# plot model performance for comparison\n",
    "plt.title('Box Plot:Cross- Validation Accuracies')\n",
    "plt.boxplot(results, labels=names, showmeans=True)\n",
    "plt.xlabel('Value of C')\n",
    "plt.ylabel('Accuracy')\n",
    "plt.figure(figsize=(15, 6))\n",
    "plt.show()\n",
    "# Adapted from https://machinelearningmastery.com/repeated-k-fold-cross-validation-with-python/"
   ]
  },
  {
   "cell_type": "code",
   "execution_count": 20,
   "metadata": {},
   "outputs": [
    {
     "name": "stdout",
     "output_type": "stream",
     "text": [
      "Training Accuracy score:  0.6544466666666666\n"
     ]
    }
   ],
   "source": [
    "# Fit the logistic regression with the \"optimized\" parameter\n",
    "log_reg = linear_model.LogisticRegression(C=0.5, penalty = 'l2', max_iter=1000).fit(X,y)\n",
    "\n",
    "# Store predictions \n",
    "y_pred = log_reg.predict(X)\n",
    "\n",
    "print('Training Accuracy score: ', metrics.accuracy_score(y,y_pred))"
   ]
  },
  {
   "cell_type": "code",
   "execution_count": 21,
   "metadata": {},
   "outputs": [
    {
     "data": {
      "image/png": "[encoded data removed]",
      "text/plain": [
       "<Figure size 432x288 with 2 Axes>"
      ]
     },
     "metadata": {
      "needs_background": "light"
     },
     "output_type": "display_data"
    },
    {
     "data": {
      "text/plain": [
       "<Figure size 1080x432 with 0 Axes>"
      ]
     },
     "metadata": {},
     "output_type": "display_data"
    }
   ],
   "source": [
    "# define confusion matrix\n",
    "cm = confusion_matrix(y, y_pred, labels=log_reg.classes_)\n",
    "# define confusion matrix display \n",
    "disp = ConfusionMatrixDisplay(confusion_matrix=cm, display_labels=log_reg.classes_)\n",
    "# plot display\n",
    "disp.plot()\n",
    "plt.title('Confusion Matrix for Multiclass Classification')\n",
    "plt.figure(figsize=(15, 6))\n",
    "plt.show()"
   ]
  },
  {
   "cell_type": "code",
   "execution_count": 22,
   "metadata": {},
   "outputs": [
    {
     "name": "stdout",
     "output_type": "stream",
     "text": [
      "Test Accuracy score:  0.6535\n"
     ]
    }
   ],
   "source": [
    "y_pred = log_reg.predict(test_X)\n",
    "print('Test Accuracy score: ', metrics.accuracy_score(test_y, y_pred))"
   ]
  },
  {
   "cell_type": "code",
   "execution_count": 23,
   "metadata": {},
   "outputs": [
    {
     "data": {
      "image/png": "[encoded data removed]",
      "text/plain": [
       "<Figure size 432x288 with 2 Axes>"
      ]
     },
     "metadata": {
      "needs_background": "light"
     },
     "output_type": "display_data"
    },
    {
     "data": {
      "text/plain": [
       "<Figure size 1080x432 with 0 Axes>"
      ]
     },
     "metadata": {},
     "output_type": "display_data"
    }
   ],
   "source": [
    "# define confusion matrix\n",
    "cm = confusion_matrix(y, y_pred, labels=log_reg.classes_)\n",
    "# define confusion matrix display \n",
    "disp = ConfusionMatrixDisplay(confusion_matrix=cm, display_labels=log_reg.classes_)\n",
    "# plot display\n",
    "disp.plot()\n",
    "plt.title('Confusion Matrix for Multiclass Classification')\n",
    "plt.figure(figsize=(15, 6))\n",
    "plt.show()"
   ]
  },
  {
   "cell_type": "code",
   "execution_count": null,
   "metadata": {},
   "outputs": [],
   "source": []
  },
  {
   "cell_type": "code",
   "execution_count": null,
   "metadata": {},
   "outputs": [],
   "source": []
  }
 ],
 "metadata": {
  "kernelspec": {
   "display_name": "Python 3",
   "language": "python",
   "name": "python3"
  },
  "language_info": {
   "codemirror_mode": {
    "name": "ipython",
    "version": 3
   },
   "file_extension": ".py",
   "mimetype": "text/x-python",
   "name": "python",
   "nbconvert_exporter": "python",
   "pygments_lexer": "ipython3",
   "version": "3.7.3"
  }
 },
 "nbformat": 4,
 "nbformat_minor": 2
}
